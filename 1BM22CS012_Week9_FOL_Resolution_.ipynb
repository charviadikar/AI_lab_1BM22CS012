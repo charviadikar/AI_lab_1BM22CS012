{
  "nbformat": 4,
  "nbformat_minor": 0,
  "metadata": {
    "colab": {
      "provenance": [],
      "authorship_tag": "ABX9TyMAXS10eBRHcWJ4pEc9dD+a",
      "include_colab_link": true
    },
    "kernelspec": {
      "name": "python3",
      "display_name": "Python 3"
    },
    "language_info": {
      "name": "python"
    }
  },
  "cells": [
    {
      "cell_type": "markdown",
      "metadata": {
        "id": "view-in-github",
        "colab_type": "text"
      },
      "source": [
        "<a href=\"https://colab.research.google.com/github/charviadikar/AI_lab_1BM22CS012/blob/main/1BM22CS012_Week9_FOL_Resolution_.ipynb\" target=\"_parent\"><img src=\"https://colab.research.google.com/assets/colab-badge.svg\" alt=\"Open In Colab\"/></a>"
      ]
    },
    {
      "cell_type": "code",
      "source": [
        "from itertools import combinations\n",
        "\n",
        "def unify(x, y, theta={}):\n",
        "    \"\"\"Unify two predicates using a substitution (theta).\"\"\"\n",
        "    if theta is None:\n",
        "        return None\n",
        "    elif x == y:\n",
        "        return theta\n",
        "    elif isinstance(x, str) and x.islower():\n",
        "        return unify_var(x, y, theta)\n",
        "    elif isinstance(y, str) and y.islower():\n",
        "        return unify_var(y, x, theta)\n",
        "    elif isinstance(x, tuple) and isinstance(y, tuple) and len(x) == len(y):\n",
        "        return unify(x[1:], y[1:], unify(x[0], y[0], theta))\n",
        "    else:\n",
        "        return None\n",
        "\n",
        "def unify_var(var, x, theta):\n",
        "    \"\"\"Unify variable.\"\"\"\n",
        "    if var in theta:\n",
        "        return unify(theta[var], x, theta)\n",
        "    elif x in theta:\n",
        "        return unify(var, theta[x], theta)\n",
        "    else:\n",
        "        theta[var] = x\n",
        "        return theta\n",
        "\n",
        "def resolve(clause1, clause2):\n",
        "    \"\"\"Resolve two clauses and return the resolvents.\"\"\"\n",
        "    resolvents = []\n",
        "    for predicate1 in clause1:\n",
        "        for predicate2 in clause2:\n",
        "            theta = unify(predicate1, negate(predicate2))\n",
        "            if theta is not None:\n",
        "                new_clause = (substitute(clause1, theta) | substitute(clause2, theta)) - {predicate1, predicate2}\n",
        "                resolvents.append(frozenset(new_clause))\n",
        "    return resolvents\n",
        "\n",
        "def negate(predicate):\n",
        "    \"\"\"Negate a predicate.\"\"\"\n",
        "    return ('not', predicate) if isinstance(predicate, str) else predicate[1]\n",
        "\n",
        "def substitute(clause, theta):\n",
        "    \"\"\"Apply substitutions to a clause.\"\"\"\n",
        "    return {substitute_predicate(p, theta) for p in clause}\n",
        "\n",
        "def substitute_predicate(predicate, theta):\n",
        "    \"\"\"Apply substitution to a single predicate.\"\"\"\n",
        "    if isinstance(predicate, str):\n",
        "        return theta.get(predicate, predicate)\n",
        "    else:\n",
        "        return (predicate[0],) + tuple(theta.get(arg, arg) for arg in predicate[1:])\n",
        "\n",
        "def resolution(kb, query):\n",
        "    \"\"\"Perform resolution to prove the query.\"\"\"\n",
        "    negated_query = frozenset({negate(query)})\n",
        "    clauses = kb | {negated_query}\n",
        "    new_clauses = set()\n",
        "\n",
        "    while True:\n",
        "        for clause1, clause2 in combinations(clauses, 2):\n",
        "            resolvents = resolve(clause1, clause2)\n",
        "            if frozenset() in resolvents:\n",
        "                return True\n",
        "            new_clauses.update(resolvents)\n",
        "        if new_clauses.issubset(clauses):\n",
        "            return False\n",
        "        clauses |= new_clauses\n",
        "\n",
        "kb = {\n",
        "    frozenset({('Mother', 'Leela', 'Oshin')}),\n",
        "    frozenset({('Alive', 'Leela')}),\n",
        "    frozenset({('not','Mother', 'x','y')}),\n",
        "    frozenset({('Parent','x','y')}),\n",
        "    frozenset({('not','Parent', 'w', 'z')}),\n",
        "    frozenset({('not','Alive','w','z')}),\n",
        "    frozenset({('Older','w','z')}),\n",
        "}\n",
        "\n",
        "# Query: Prove John likes peanuts\n",
        "query = ('Older', 'Leela', 'Older')\n",
        "\n",
        "# Run resolution\n",
        "result = resolution(kb, query)\n",
        "if result:\n",
        "    print(\"Proved by resolution: Hence, Leela is older than Oshin.\")\n",
        "else:\n",
        "    print(\"Cannot prove. Leela is not older than Oshin.\")\n",
        "\n",
        "\n"
      ],
      "metadata": {
        "colab": {
          "base_uri": "https://localhost:8080/"
        },
        "id": "woZVP05wqMpu",
        "outputId": "b3feda92-0a46-445b-92f6-80f6114b61e6"
      },
      "execution_count": null,
      "outputs": [
        {
          "output_type": "stream",
          "name": "stdout",
          "text": [
            "Proved by resolution: Hence, Leela is older than Oshin.\n"
          ]
        }
      ]
    }
  ]
}