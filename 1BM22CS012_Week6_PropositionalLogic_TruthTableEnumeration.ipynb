{
  "nbformat": 4,
  "nbformat_minor": 0,
  "metadata": {
    "colab": {
      "provenance": [],
      "authorship_tag": "ABX9TyPCJs45IESBI0/FpPy5lKuG",
      "include_colab_link": true
    },
    "kernelspec": {
      "name": "python3",
      "display_name": "Python 3"
    },
    "language_info": {
      "name": "python"
    }
  },
  "cells": [
    {
      "cell_type": "markdown",
      "metadata": {
        "id": "view-in-github",
        "colab_type": "text"
      },
      "source": [
        "<a href=\"https://colab.research.google.com/github/charviadikar/AI_lab_1BM22CS012/blob/main/1BM22CS012_Week6_PropositionalLogic_TruthTableEnumeration.ipynb\" target=\"_parent\"><img src=\"https://colab.research.google.com/assets/colab-badge.svg\" alt=\"Open In Colab\"/></a>"
      ]
    },
    {
      "cell_type": "code",
      "execution_count": 1,
      "metadata": {
        "colab": {
          "base_uri": "https://localhost:8080/"
        },
        "id": "ZnZD5-OUFJ2F",
        "outputId": "1476b401-72e7-46e7-ae6e-0f0ed68bdde1"
      },
      "outputs": [
        {
          "output_type": "stream",
          "name": "stdout",
          "text": [
            "Q    P    R    Q -> P    P -> ¬Q   Q ∪ R     R    R -> P    Q -> R    \n",
            "1    1    1    1         0         1         1    1         1         \n",
            "1    1    0    1         0         1         0    1         0         \n",
            "1    0    1    0         1         1         1    0         1         \n",
            "1    0    0    0         1         1         0    1         0         \n",
            "0    1    1    1         1         1         1    1         1         \n",
            "KB is true: Q -> P, P -> ¬Q, Q ∪ R\n",
            "KB entails R: True\n",
            "KB entails R -> P: True\n",
            "KB entails Q -> R: True\n",
            "--------------------------------------------------\n",
            "0    1    0    1         1         0         0    1         1         \n",
            "0    0    1    1         1         1         1    0         1         \n",
            "KB is true: Q -> P, P -> ¬Q, Q ∪ R\n",
            "KB entails R: True\n",
            "KB entails R -> P: False\n",
            "KB entails Q -> R: True\n",
            "--------------------------------------------------\n",
            "0    0    0    1         1         0         0    1         1         \n"
          ]
        }
      ],
      "source": [
        "import itertools\n",
        "\n",
        "def evaluate_kb(Q, P, R):\n",
        "    q_imp_p = (not Q or P)  # Q -> P\n",
        "    p_imp_not_q = (not P or not Q)  # P -> ¬Q\n",
        "    q_union_r = (Q or R)  # Q ∪ R\n",
        "\n",
        "    # Evaluating entailments\n",
        "    r = R\n",
        "    r_imp_p = (not R or P)  # R -> P\n",
        "    q_imp_r = (not Q or R)  # Q -> R\n",
        "\n",
        "    # Return a tuple of truth values for the formulas\n",
        "    return q_imp_p, p_imp_not_q, q_union_r, r, r_imp_p, q_imp_r\n",
        "\n",
        "def truth_table():\n",
        "    values = [True, False]\n",
        "    print(f\"{'Q':<5}{'P':<5}{'R':<5}{'Q -> P':<10}{'P -> ¬Q':<10}{'Q ∪ R':<10}{'R':<5}{'R -> P':<10}{'Q -> R':<10}\")\n",
        "\n",
        "    for Q, P, R in itertools.product(values, repeat=3):\n",
        "        q_imp_p, p_imp_not_q, q_union_r, r, r_imp_p, q_imp_r = evaluate_kb(Q, P, R)\n",
        "\n",
        "        print(f\"{Q:<5}{P:<5}{R:<5}{q_imp_p:<10}{p_imp_not_q:<10}{q_union_r:<10}{r:<5}{r_imp_p:<10}{q_imp_r:<10}\")\n",
        "\n",
        "        if q_imp_p and p_imp_not_q and q_union_r:\n",
        "            print(f\"KB is true: Q -> P, P -> ¬Q, Q ∪ R\")\n",
        "            print(f\"KB entails R: {r}\")\n",
        "            print(f\"KB entails R -> P: {r_imp_p}\")\n",
        "            print(f\"KB entails Q -> R: {q_imp_r}\")\n",
        "            print(\"-\" * 50)\n",
        "\n",
        "def main():\n",
        "    truth_table()\n",
        "\n",
        "main()"
      ]
    }
  ]
}