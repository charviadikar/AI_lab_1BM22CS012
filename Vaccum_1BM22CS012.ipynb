{
  "nbformat": 4,
  "nbformat_minor": 0,
  "metadata": {
    "colab": {
      "provenance": []
    },
    "kernelspec": {
      "name": "python3",
      "display_name": "Python 3"
    },
    "language_info": {
      "name": "python"
    }
  },
  "cells": [
    {
      "cell_type": "code",
      "execution_count": null,
      "metadata": {
        "id": "FJ9GnK63IxlE"
      },
      "outputs": [],
      "source": [
        "\n",
        "  areaA=int(input(\"Enter if area A is clean:0 or dirty:1\\n\"))\n",
        "  areaB=int(input(\"Enter if area B is clean:0 or dirty:1\\n\"))\n",
        "  state=(input(\"Enter state A or B\"))\n",
        "  while(areaA==1 or areaB==1):\n",
        "    if state=='A':\n",
        "      if(areaA==1):\n",
        "        print(\"Cleaning area A\")\n",
        "        areaA=0\n",
        "        state='B'\n",
        "      else:\n",
        "        state='B'\n",
        "    if state=='B':\n",
        "      if (areaB==1):\n",
        "        print(\"Cleaning area B\")\n",
        "        areaB=0\n",
        "        state='A'\n",
        "      else:\n",
        "        state='A'\n",
        "\n",
        "  if (areaA==0 and areaB==0):\n",
        "    print(\"Job Done: Adikar Charvi Sree Teja\")\n",
        "  else:\n",
        "    print(\"Error\")\n"
      ]
    },
    {
      "cell_type": "code",
      "source": [],
      "metadata": {
        "id": "MIz1dwQJVeTo"
      },
      "execution_count": null,
      "outputs": []
    }
  ]
}