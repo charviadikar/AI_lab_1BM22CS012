{
  "nbformat": 4,
  "nbformat_minor": 0,
  "metadata": {
    "colab": {
      "provenance": [],
      "authorship_tag": "ABX9TyOcGFfStCYRZOHK6hgyEv3N",
      "include_colab_link": true
    },
    "kernelspec": {
      "name": "python3",
      "display_name": "Python 3"
    },
    "language_info": {
      "name": "python"
    }
  },
  "cells": [
    {
      "cell_type": "markdown",
      "metadata": {
        "id": "view-in-github",
        "colab_type": "text"
      },
      "source": [
        "<a href=\"https://colab.research.google.com/github/charviadikar/AI_lab_1BM22CS012/blob/main/Vaccum_1BM22CS012.ipynb\" target=\"_parent\"><img src=\"https://colab.research.google.com/assets/colab-badge.svg\" alt=\"Open In Colab\"/></a>"
      ]
    },
    {
      "cell_type": "code",
      "execution_count": 4,
      "metadata": {
        "id": "FJ9GnK63IxlE",
        "colab": {
          "base_uri": "https://localhost:8080/"
        },
        "outputId": "72827929-217f-4348-86c0-0d81b44075e6"
      },
      "outputs": [
        {
          "output_type": "stream",
          "name": "stdout",
          "text": [
            "Enter if area A is clean:0 or dirty:1\n",
            "0\n",
            "Enter if area B is clean:0 or dirty:1\n",
            "1\n",
            "Enter state A or BA\n",
            "Cleaning area B\n",
            "Job Done: Adikar Charvi Sree Teja\n"
          ]
        }
      ],
      "source": [
        "\n",
        "  areaA=int(input(\"Enter if area A is clean:0 or dirty:1\\n\"))\n",
        "  areaB=int(input(\"Enter if area B is clean:0 or dirty:1\\n\"))\n",
        "  state=(input(\"Enter state A or B\"))\n",
        "  while(areaA==1 or areaB==1):\n",
        "    if state=='A':\n",
        "      if(areaA==1):\n",
        "        print(\"Cleaning area A\")\n",
        "        areaA=0\n",
        "        state='B'\n",
        "      else:\n",
        "        state='B'\n",
        "    if state=='B':\n",
        "      if (areaB==1):\n",
        "        print(\"Cleaning area B\")\n",
        "        areaB=0\n",
        "        state='A'\n",
        "      else:\n",
        "        state='A'\n",
        "\n",
        "  if (areaA==0 and areaB==0):\n",
        "    print(\"Job Done: Adikar Charvi Sree Teja\")\n",
        "  else:\n",
        "    print(\"Error\")\n"
      ]
    },
    {
      "cell_type": "code",
      "source": [],
      "metadata": {
        "id": "MIz1dwQJVeTo"
      },
      "execution_count": null,
      "outputs": []
    }
  ]
}